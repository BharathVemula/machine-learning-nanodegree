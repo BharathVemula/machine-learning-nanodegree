{
 "cells": [
  {
   "cell_type": "code",
   "execution_count": null,
   "metadata": {
    "collapsed": false
   },
   "outputs": [
    {
     "name": "stdout",
     "output_type": "stream",
     "text": [
      "70000\n",
      "Grid Search\n"
     ]
    }
   ],
   "source": [
    "%%capture cap --no-stderr\n",
    "\n",
    "with open('train.txt', 'w') as f:\n",
    "    f.write(cap.stdout)\n",
    "\n",
    "del cap \n",
    "\n",
    "import pickle\n",
    "from sklearn.svm import SVC\n",
    "from sklearn.model_selection import train_test_split, GridSearchCV\n",
    "from sklearn.metrics import confusion_matrix, accuracy_score\n",
    "\n",
    "components = [ 10, 25, 50, 100, 784 ]\n",
    "y = pickle.load(open('target.pkl', 'r'))\n",
    "\n",
    "for c in components:\n",
    "    \n",
    "    print '-------------------------------------------------------'\n",
    "    print\n",
    "    print 'Training and optimisation report with {0} principal component'.format(c)\n",
    "    print\n",
    "    filename = 'data-{0}-components.pkl'.format(c)\n",
    "    X = pickle.load(open(filename, 'r'))\n",
    "\n",
    "    X_train, X_test, y_train, y_test = train_test_split(X, y, test_size=(1/7), random_state=0)\n",
    "    \n",
    "    # Save split test train datasets with pickle    \n",
    "    X_train_file = 'X_train-for-{0}-components.pkl'.format(c)\n",
    "    file = open(X_train_file, 'w')\n",
    "    pickle.dump(X_train, file)\n",
    "    file.close()\n",
    "\n",
    "    X_test_file = 'X_test-for-{0}-components.pkl'.format(c)\n",
    "    file = open(X_test_file, 'w')\n",
    "    pickle.dump(X_test, file)\n",
    "    file.close()\n",
    "\n",
    "    y_train_file = 'y_train-for-{0}-components.pkl'.format(c)\n",
    "    file = open(y_train_file, 'w')\n",
    "    pickle.dump(y_train, file)\n",
    "    file.close()\n",
    "\n",
    "    y_test_file = 'y_test-for-{0}-components.pkl'.format(c)\n",
    "    file = open(y_test_file, 'w')\n",
    "    pickle.dump(y_test, file)\n",
    "    file.close()\n",
    "    \n",
    "    tuned_parameters = [\n",
    "                        {\n",
    "                        'kernel': ['rbf'],\n",
    "                        'gamma': [1e-3, 1e-4],\n",
    "                        'C': [1, 10, 100, 1000]\n",
    "                        },\n",
    "                        {\n",
    "                        'kernel': ['poly'],\n",
    "                        'gamma': [1e-3, 1e-4],\n",
    "                        'C': [1, 10, 100, 1000],\n",
    "                        'degree': [5, 6, 7]\n",
    "                        }\n",
    "                        ]\n",
    "\n",
    "    print 'Grid Search'\n",
    "    clf = GridSearchCV(SVC(C=1), tuned_parameters, cv=5, scoring='accuracy')\n",
    "    clf.fit(X_train, y_train)\n",
    "    \n",
    "    print 'Best parameters set found on development set:'\n",
    "    print clf.best_params_\n",
    "    print\n",
    "    print 'Grid scores on development set:'\n",
    "    means = clf.cv_results_['mean_test_score']\n",
    "    stds = clf.cv_results_['std_test_score']\n",
    "    for mean, std, params in zip(means, stds, clf.cv_results_['params']):\n",
    "        print '%0.3f (+/-%0.03f) for %r' % (mean, std * 2, params)\n",
    "    print\n",
    "    print\n",
    "    print '-------------------------------------------------------'\n",
    "    print\n",
    "    \n",
    "    clf_file = 'model-for-{0}-components.pkl'.format(c)\n",
    "    file = open(clf_file, 'w')\n",
    "    pickle.dump(clf, file)\n",
    "    file.close()\n",
    " "
   ]
  },
  {
   "cell_type": "code",
   "execution_count": null,
   "metadata": {
    "collapsed": true
   },
   "outputs": [],
   "source": []
  }
 ],
 "metadata": {
  "anaconda-cloud": {},
  "kernelspec": {
   "display_name": "Python [default]",
   "language": "python",
   "name": "python2"
  },
  "language_info": {
   "codemirror_mode": {
    "name": "ipython",
    "version": 2
   },
   "file_extension": ".py",
   "mimetype": "text/x-python",
   "name": "python",
   "nbconvert_exporter": "python",
   "pygments_lexer": "ipython2",
   "version": "2.7.12"
  }
 },
 "nbformat": 4,
 "nbformat_minor": 1
}
