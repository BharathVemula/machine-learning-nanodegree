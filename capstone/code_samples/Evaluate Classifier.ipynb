{
 "cells": [
  {
   "cell_type": "code",
   "execution_count": 9,
   "metadata": {
    "collapsed": false
   },
   "outputs": [
    {
     "name": "stdout",
     "output_type": "stream",
     "text": [
      "-------------------------------------------------------\n",
      "\n",
      "Classifier report for (3, 1000, 3, 0.0001, 'poly')\n",
      "\n",
      "[[ 917    0    0    0    0    0    3    0    0    0]\n",
      " [   0 1107    5    1    1    0    2    4    0    3]\n",
      " [   2    1  949    3    0    0    2    2    5    0]\n",
      " [   1    1    7  992    0   11    0    1    7    3]\n",
      " [   1    1    1    0  901    0    4    1    1   23]\n",
      " [   1    0    2    2    1  879    8    0    6    5]\n",
      " [   2    1    1    0    3    2  985    0    1    0]\n",
      " [   1    5    4    1    3    0    0  985    1   10]\n",
      " [   1    3    0    7    3    9    4    1  927    2]\n",
      " [   4    2    0    7   16    1    0    6    2  934]]\n",
      "\n",
      "Accuracy score:\n",
      "0.977043158861\n",
      "\n",
      "Error per digit:\n",
      "0.00326086956522\n",
      "0.0142475512021\n",
      "0.0155601659751\n",
      "0.030303030303\n",
      "0.0342979635584\n",
      "0.0276548672566\n",
      "0.0100502512563\n",
      "0.0247524752475\n",
      "0.0313479623824\n",
      "0.0390946502058\n",
      "\n",
      "-------------------------------------------------------\n",
      "\n"
     ]
    }
   ],
   "source": [
    "# %%capture cap --no-stderr\n",
    "\n",
    "# with open('evaluation.txt', 'w') as f:\n",
    "#     f.write(cap.stdout)\n",
    "\n",
    "# del cap \n",
    "\n",
    "import pickle\n",
    "from sklearn.metrics import confusion_matrix\n",
    "from sklearn.metrics import accuracy_score\n",
    "    \n",
    "params = pickle.load(open('params_best.pkl', 'r'))\n",
    "y_test = pickle.load(open('y_test_best.pkl', 'r'))\n",
    "y_pred = pickle.load(open('y_pred_best.pkl', 'r'))\n",
    "    \n",
    "print '-------------------------------------------------------'\n",
    "print\n",
    "print 'Classifier report for {0}'.format(params)\n",
    "print\n",
    "\n",
    "clf_confusion_matrix = confusion_matrix(y_test, y_pred)\n",
    "print clf_confusion_matrix\n",
    "print\n",
    "print 'Accuracy score:'\n",
    "print accuracy_score(y_test, y_pred)\n",
    "print\n",
    "print 'Error per digit:'\n",
    "error_per_digit = []\n",
    "label = 0 \n",
    "for row in clf_confusion_matrix:\n",
    "    num = float(row[label])\n",
    "    den = sum(row)\n",
    "    error = 1 - (num / den)\n",
    "    error_per_digit.append(error)\n",
    "    label += 1\n",
    "    \n",
    "for e in error_per_digit:\n",
    "    print e\n",
    "print\n",
    "print '-------------------------------------------------------'\n",
    "print\n"
   ]
  },
  {
   "cell_type": "code",
   "execution_count": null,
   "metadata": {
    "collapsed": true
   },
   "outputs": [],
   "source": []
  },
  {
   "cell_type": "code",
   "execution_count": null,
   "metadata": {
    "collapsed": true
   },
   "outputs": [],
   "source": []
  }
 ],
 "metadata": {
  "anaconda-cloud": {},
  "kernelspec": {
   "display_name": "Python [default]",
   "language": "python",
   "name": "python2"
  },
  "language_info": {
   "codemirror_mode": {
    "name": "ipython",
    "version": 2
   },
   "file_extension": ".py",
   "mimetype": "text/x-python",
   "name": "python",
   "nbconvert_exporter": "python",
   "pygments_lexer": "ipython2",
   "version": "2.7.12"
  }
 },
 "nbformat": 4,
 "nbformat_minor": 1
}
