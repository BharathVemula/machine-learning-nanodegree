{
 "cells": [
  {
   "cell_type": "code",
   "execution_count": null,
   "metadata": {
    "collapsed": true
   },
   "outputs": [],
   "source": [
    "%%capture cap --no-stderr\n",
    "\n",
    "with open('evaluation.txt', 'w') as f:\n",
    "    f.write(cap.stdout)\n",
    "\n",
    "del cap \n",
    "\n",
    "import pickle\n",
    "from sklearn.metrics import confusion_matrix\n",
    "from sklearn.metrics import accuracy_score\n",
    "\n",
    "components = [ 10, 25, 50, 100, 784 ]\n",
    "\n",
    "for c in components:\n",
    "    \n",
    "    print '-------------------------------------------------------'\n",
    "    print\n",
    "    print 'Classifier report with {0} principal component'.format(c)\n",
    "    print\n",
    "    clf = pickle.load(open('model-for-{0}-components.pkl'.format(c), 'r'))\n",
    "    X_test = pickle.load(open('X_test-for-{0}-components.pkl'.format(c), 'r'))\n",
    "    y_test = pickle.load(open('y_test-for-{0}-components-score.pkl'.format(c), 'r'))\n",
    "'\n",
    "    y_true, y_pred = y_test, clf.predict(X_test)\n",
    "    print confusion_matrix(y_true, y_pred)\n",
    "    print\n",
    "    print 'Accuracy score:'\n",
    "    print accuracy_score(y_true, y_pred)\n",
    "    print\n",
    "    print 'Error per digit:'\n",
    "    error_per_digit = {}\n",
    "    label = 0 \n",
    "    for row in confusion_matrix:\n",
    "        num = float(row[label])\n",
    "        den = sum(row)\n",
    "        error = 1 - (num / den)\n",
    "        error_per_digit[label] = error\n",
    "        label += 1\n",
    "    print error_per_digit\n",
    "    print\n",
    "    print '-------------------------------------------------------'\n",
    "    print\n"
   ]
  }
 ],
 "metadata": {
  "anaconda-cloud": {},
  "kernelspec": {
   "display_name": "Python [default]",
   "language": "python",
   "name": "python2"
  },
  "language_info": {
   "codemirror_mode": {
    "name": "ipython",
    "version": 2
   },
   "file_extension": ".py",
   "mimetype": "text/x-python",
   "name": "python",
   "nbconvert_exporter": "python",
   "pygments_lexer": "ipython2",
   "version": "2.7.12"
  }
 },
 "nbformat": 4,
 "nbformat_minor": 1
}
